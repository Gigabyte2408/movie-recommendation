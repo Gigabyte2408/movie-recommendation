{
 "cells": [
  {
   "cell_type": "code",
   "execution_count": null,
   "metadata": {},
   "outputs": [],
   "source": [
    "#The below show a separate dictionary for each genre of movies. Each dictionary contains 4 sub dictionaries where each sub dictioanry is a different movie. Each sub dictionary contains key-value pairs for rating, synopsis, and cast\n",
    "Horror = {\"Insidious\": {\"Rating\": \"6.8/10\", \"Synopsis\": \"A family looks to prevent evil spirits from trapping their comatose child in a realm called The Further\", \"Cast\": \"Patrick Wilson, Rose Byrne\"},\n",
    "\"The Conjuring\": {\"Rating\": \"7.5/10\", \"Synopsis\": \"Paranormal investigators Ed and Lorraine Warren work to help a family terrorized by a dark presence in their farmhouse.\", \"Cast\": \"Patrick Wilson, Vera Farmiga\"},\n",
    " \"The Shining\": {\"Rating\": \"8.4/10\", \"Synopsis\": \"A family heads to an isolated hotel for the winter where a sinister presence influences the father into violence, while his psychic son sees horrific forebodings from both past and future.\", \"Cast\": \"Jack Nicholson, Shelly Duvall\"}, \n",
    " \"The Exorcist\":{\"Rating\": \"8.1/10\", \"Synopsis\": \"When a 12-year-old girl is possessed by a mysterious entity, her mother seeks the help of two priests to save her.\", \"Cast\": \"Ellen Burstyn, Max von Sydow\"}}\n",
    "\n",
    "Comedy = {\"Rush Hour\":{\"Rating\": \"7.0/10\", \"Synopsis\": \"A loyal and dedicated Hong Kong Inspector teams up with a reckless and loudmouthed L.A.P.D. detective to rescue the Chinese Consul's kidnapped daughter, while trying to arrest a dangerous crime lord along the way.\", \"Cast\":\"Jackie Chan, Chris Tucker\"},\n",
    "\"Superbad\":{\"Rating\": \"7.6/10\", \"Synopsis\": \"Two co-dependent high school seniors are forced to deal with separation anxiety after their plan to stage a booze-soaked party goes awry.\", \"Cast\":\"Michael Cera, Jonah Hill\"},\n",
    "\"Ted\":{\"Rating\": \"6.9/10\", \"Synopsis\": \"John Bennett, a man whose childhood wish of bringing his teddy bear to life came true, now must decide between keeping the relationship with the bear, Ted or his girlfriend, Lori.\", \"Cast\":\"Mark Wahlberg, Mila Kunia\"},\n",
    "\"Grown Ups\":{\"Rating\": \"5.9/10\", \"Synopsis\": \"After their high school basketball coach passes away, five good friends and former teammates reunite for a Fourth of July holiday weekend.\", \"Cast\":\"Adam Sandler, Salma Hayek\"}}\n",
    "\n",
    "Action = {\"The Expendables\":{\"Rating\": \"6.4/10\", \"Synopsis\": \"A CIA operative hires a team of mercenaries to eliminate a Latin dictator and a renegade CIA agent.\", \"Cast\":\"Sylvester Stallone, Jason Statham\"}\n",
    ",\"Die Hard\":{\"Rating\": \"8.2/10\", \"Synopsis\": \"An NYPD officer tries to save his wife and several others taken hostage by German terrorists during a Christmas party at the Nakatomi Plaza in Los Angeles.\", \"Cast\":\"Bruce Willis, Alan Rickman\"}\n",
    ",\"Mission Impossible III\":{\"Rating\": \"6.9/10\", \"Synopsis\": \"IMF agent Ethan Hunt comes into conflict with a dangerous and sadistic arms dealer who threatens his life and his fiancée in response.\", \"Cast\":\"Tom Cruise, Michelle Monaghan\"}\n",
    ",\"The Terminator\":{\"Rating\": \"8.1/10\", \"Synopsis\": \"A human soldier is sent from 2029 to 1984 to stop an almost indestructible cyborg killing machine, sent from the same year, which has been programmed to execute a young woman whose unborn son is the key to humanity's future salvation.\", \"Cast\":\"Arnold Schwarzenegger, Linda Hamilton\"}}\n",
    "\n",
    "Romantic_Comedy = {\"Crazy, Stupid, Love\":{\"Rating\": \"7.4/10\", \"Synopsis\": \"A middle-aged husband's life changes dramatically when his wife asks him for a divorce. He seeks to rediscover his manhood with the help of a newfound friend, Jacob, learning to pick up girls at bars.\", \"Cast\":\"Steve Carell, Ryan Gosling\"}\n",
    ",\"Friends With Benefits\":{\"Rating\": \"6.5/10\", \"Synopsis\": \"A young man and woman decide to take their friendship to the next level without becoming a couple, but soon discover that adding sex only leads to complications.\", \"Cast\":\"Mila Kunis, Justing Timberlake\"}\n",
    ",\"Crazy Rich Asians\":{\"Rating\": \"6.9/10\", \"Synopsis\": \"This contemporary romantic comedy, based on a global bestseller, follows native New Yorker Rachel Chu to Singapore to meet her boyfriend's family.\", \"Cast\":\"Constance Wu, Henry Golding\"}\n",
    ",\"The Proposal\":{\"Rating\": \"6.7/10\", \"Synopsis\": \"A pushy boss forces her young assistant to marry her in order to keep her visa status in the U.S. and avoid deportation to Canada.\", \"Cast\":\"Sandra Bullock, Ryan Reynolds\"}}\n",
    "\n",
    "Science_Fiction = {\"Star Wars\":{\"Rating\": \"8.6/10\", \"Synopsis\": \"Luke Skywalker joins forces with a Jedi Knight, a cocky pilot, a Wookiee and two droids to save the galaxy from the Empire's world-destroying battle station, while also attempting to rescue Princess Leia from the mysterious Darth Vader.\", \"Cast\":\"Mark Hamill, Harrison Ford\"}\n",
    ",\"Star Trek\":{\"Rating\": \"7.9/10\", \"Synopsis\": \"The brash James T. Kirk tries to live up to his father's legacy with Mr. Spock keeping him in check as a vengeful Romulan from the future creates black holes to destroy the Federation one planet at a time.\", \"Cast\":\"Chris Pine, Zachary Quinto\"}\n",
    ",\"The Avengers\":{\"Rating\": \"8.0/10\", \"Synopsis\": \"Earth's mightiest heroes must come together and learn to fight as a team if they are going to stop the mischievous Loki and his alien army from enslaving humanity.\", \"Cast\":\"Robert Downey Jr., Chris Evans\"}\n",
    ",\"Transformers\":{\"Rating\": \"7.0/10\", \"Synopsis\": \"An ancient struggle between two Cybertronian races, the heroic Autobots and the evil Decepticons, comes to Earth, with a clue to the ultimate power held by a teenager.\", \"Cast\":\"Shia LaBeouf, Megan Fox\"}}"
   ]
  }
 ],
 "metadata": {
  "language_info": {
   "name": "python"
  },
  "orig_nbformat": 4
 },
 "nbformat": 4,
 "nbformat_minor": 2
}
